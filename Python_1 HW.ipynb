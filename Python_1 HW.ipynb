{
 "cells": [
  {
   "cell_type": "code",
   "execution_count": 53,
   "metadata": {},
   "outputs": [],
   "source": [
    "#Create a base class and two child classes that will inherit from it.\n",
    "class Human:\n",
    "        # Functie returneaza date\n",
    "    def __init__(self, Name, Age, Date_Of_Birth):\n",
    "        self.Name = Name\n",
    "        self.Age = Age\n",
    "        self.Date_Of_Birth = Date_Of_Birth\n",
    "    # Functie returneaza nume\n",
    "    def __str__(self):\n",
    "        return self.name\n",
    "    def media(self):\n",
    "        pass\n",
    "    def disciplina(self):\n",
    "        pass\n",
    "     # Functie returneaza afirmatie\n",
    "    def adult(self):\n",
    "        return \"Nu se stie\"\n",
    "    "
   ]
  },
  {
   "cell_type": "code",
   "execution_count": 54,
   "metadata": {},
   "outputs": [],
   "source": [
    "#create a child class Pupil\n",
    "class Pupil(Human):\n",
    "    def __init__(self, GPA, Grade):\n",
    "        self.GPA = GPA\n",
    "        self.Grade = Grade\n",
    "    # Functie returneaza numele\n",
    "    def __str__(self):\n",
    "        return self.name\n",
    "    \n",
    "    def adult(self):\n",
    "        return \"Inca este un copil\"\n"
   ]
  },
  {
   "cell_type": "code",
   "execution_count": 55,
   "metadata": {},
   "outputs": [],
   "source": [
    "#create a child class Teacher\n",
    "class Teacher(Human):\n",
    "    def __init__(self, Discipline, Salary):\n",
    "        self.Discipline = Discipline\n",
    "        self.Salary = Salary\n",
    "    # Functie returneaza numele\n",
    "    def __str__(self):\n",
    "        return self.name\n",
    "    # Functie returneaza disciplina\n",
    "    def disciplina(self):\n",
    "        return self.Discipline\n",
    "    \n",
    "    def adult(self):\n",
    "        return \"Deja este o persoana adulta\"\n"
   ]
  },
  {
   "cell_type": "code",
   "execution_count": 56,
   "metadata": {},
   "outputs": [],
   "source": [
    "Elena = Teacher('Matematica', 10000)"
   ]
  },
  {
   "cell_type": "code",
   "execution_count": 57,
   "metadata": {},
   "outputs": [],
   "source": [
    "Maria = Pupil(9.33, 9.83)"
   ]
  },
  {
   "cell_type": "code",
   "execution_count": 58,
   "metadata": {},
   "outputs": [
    {
     "name": "stdout",
     "output_type": "stream",
     "text": [
      "Inca este un copil\n"
     ]
    }
   ],
   "source": [
    "print(Maria.adult())"
   ]
  },
  {
   "cell_type": "code",
   "execution_count": 59,
   "metadata": {},
   "outputs": [
    {
     "name": "stdout",
     "output_type": "stream",
     "text": [
      "Deja este o persoana adulta\n"
     ]
    }
   ],
   "source": [
    "print(Elena.adult())"
   ]
  },
  {
   "cell_type": "code",
   "execution_count": 60,
   "metadata": {},
   "outputs": [
    {
     "name": "stdout",
     "output_type": "stream",
     "text": [
      "Matematica\n"
     ]
    }
   ],
   "source": [
    "print(Elena.disciplina())"
   ]
  },
  {
   "cell_type": "code",
   "execution_count": null,
   "metadata": {},
   "outputs": [],
   "source": []
  },
  {
   "cell_type": "code",
   "execution_count": null,
   "metadata": {},
   "outputs": [],
   "source": []
  },
  {
   "cell_type": "code",
   "execution_count": null,
   "metadata": {},
   "outputs": [],
   "source": []
  }
 ],
 "metadata": {
  "interpreter": {
   "hash": "43435a050d4ac362dc4b1b4851a0333547cf4819a4e47175b9a0f2919a9b0b1b"
  },
  "kernelspec": {
   "display_name": "Python 3 (ipykernel)",
   "language": "python",
   "name": "python3"
  },
  "language_info": {
   "codemirror_mode": {
    "name": "ipython",
    "version": 3
   },
   "file_extension": ".py",
   "mimetype": "text/x-python",
   "name": "python",
   "nbconvert_exporter": "python",
   "pygments_lexer": "ipython3",
   "version": "3.9.7"
  }
 },
 "nbformat": 4,
 "nbformat_minor": 2
}
